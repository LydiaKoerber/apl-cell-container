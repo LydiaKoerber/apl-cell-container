{
 "cells": [
  {
   "cell_type": "markdown",
   "id": "2bef247d",
   "metadata": {},
   "source": [
    "# Generate a nested cell container structure for Alexa APL"
   ]
  },
  {
   "cell_type": "markdown",
   "id": "989dc710",
   "metadata": {},
   "source": [
    "Create a raw APL structure"
   ]
  },
  {
   "cell_type": "code",
   "execution_count": 1,
   "id": "e3114bd0",
   "metadata": {},
   "outputs": [],
   "source": [
    "# raw APL with background, cell containers and image scaling to be inserted\n",
    "apl = \"\"\"\n",
    "{\n",
    "  \"type\": \"APL\",\n",
    "  \"version\": \"1.3\",\n",
    "  \"settings\": {},\n",
    "  \"theme\": \"dark\",\n",
    "  \"import\": [\n",
    "    {\n",
    "      \"name\": \"alexa-layouts\",\n",
    "      \"version\": \"1.5.0\"\n",
    "    }\n",
    "  ],\n",
    "  \"resources\": [],\n",
    "  \"styles\": {\n",
    "    \"cellContainerStyle\": {\n",
    "      \"values\": [\n",
    "        {\n",
    "          \"opacity\": \"0.8\"\n",
    "        }\n",
    "      ]\n",
    "    },\n",
    "    \"cellStyle\": {\n",
    "      \"values\": [\n",
    "        {\n",
    "          \"fontSize\": \"25dp\",\n",
    "          \"textAlign\": \"center\",\n",
    "          \"textAlignVertical\": \"center\"\n",
    "        }\n",
    "      ]\n",
    "    }\n",
    "  },\n",
    "  \"onMount\": [],\n",
    "  \"graphics\": {},\n",
    "  \"commands\": {},\n",
    "  \"layouts\": {},\n",
    "  \"mainTemplate\": {\n",
    "    \"parameters\": [\n",
    "      \"payload\"\n",
    "    ],\n",
    "    \"items\": [\n",
    "      {\n",
    "        \"type\": \"Container\",\n",
    "        \"width\": \"100%\",\n",
    "        \"height\": \"100%\",\n",
    "        \"direction\": \"column\",\n",
    "        \"alignItems\": \"center\",\n",
    "        \"items\": [\n",
    "          {\n",
    "            \"type\": \"AlexaBackground\",\n",
    "            \"backgroundImageSource\": \"https://www.bildung-forschung.digital/digitalezukunft/de/bildung/mint-allianz/was-wimmelt-in-mint/_functions/wimmelbild_png.png?__blob=normal&amp;v=2&amp;.png\",\n",
    "            \"colorOverlay\": true,\n",
    "            \"width\": WIDTH,\n",
    "            \"height\": HEIGHT\n",
    "          },\n",
    "          {\n",
    "                \"type\": \"Container\",\n",
    "                \"width\": WIDTH,\n",
    "                \"height\": HEIGHT,\n",
    "                \"items\": [\n",
    "                  CELLCONTAINERS\n",
    "                  ]\n",
    "                  }\n",
    "            ]\n",
    "          }\n",
    "        ]\n",
    "      }\n",
    "}\n",
    "\"\"\""
   ]
  },
  {
   "cell_type": "markdown",
   "id": "c2710edd",
   "metadata": {},
   "source": [
    "Calculate optimal background image scaling (like `best-fill`) for given device measures"
   ]
  },
  {
   "cell_type": "code",
   "execution_count": 2,
   "id": "d91a87b5",
   "metadata": {},
   "outputs": [],
   "source": [
    "def height(width):\n",
    "  \"\"\"compute background height given device width\"\"\"\n",
    "  return width * 0.75\n",
    "\n",
    "def width(height):\n",
    "  \"\"\"compute background width given device height\"\"\"\n",
    "  return height * 1.33333333333\n",
    "\n",
    "def optimum(w, h):\n",
    "  \"\"\"given device width and height, compute optimal background image scaling (like bestfill)\"\"\"\n",
    "  wid = width(h)\n",
    "  hei = height(w)\n",
    "  if hei < h:\n",
    "    return w, hei\n",
    "  elif wid < w:\n",
    "    return wid, h"
   ]
  },
  {
   "cell_type": "code",
   "execution_count": 3,
   "id": "0538e9e6",
   "metadata": {},
   "outputs": [
    {
     "data": {
      "text/plain": [
       "(799.9999999979999, 600)"
      ]
     },
     "execution_count": 3,
     "metadata": {},
     "output_type": "execute_result"
    }
   ],
   "source": [
    "optimum(960, 600)"
   ]
  },
  {
   "cell_type": "markdown",
   "id": "c4e4d37b",
   "metadata": {},
   "source": [
    "Generate the cell structure, given numbers of columns and rows, an APL draft and device width and height"
   ]
  },
  {
   "cell_type": "code",
   "execution_count": 4,
   "id": "b694a717",
   "metadata": {},
   "outputs": [],
   "source": [
    "def generate(n_rows, n_cols, apl=apl, width=1280, height=800):\n",
    "    # row container draft\n",
    "    s_row = \"\"\"\n",
    "            {\n",
    "            \"type\": \"Container\",\n",
    "            \"id\": \"row-RRR\",\n",
    "            \"width\": \"100%\",\n",
    "            \"height\": \"RR%\",\n",
    "            \"direction\": \"row\",\n",
    "            \"items\": [\n",
    "            \"\"\"\n",
    "    # cell container draft\n",
    "    s_cell = \"\"\"\n",
    "                {\n",
    "                \"type\": \"Container\",\n",
    "                \"id\": \"row-RRR-column-CCC\",\n",
    "                \"width\": \"CC%\",\n",
    "                \"height\": \"100%\",\n",
    "                \"style\": \"cellContainerStyle\",\n",
    "                \"items\": [\n",
    "                  {\n",
    "                    \"type\": \"TouchWrapper\",\n",
    "                    \"item\": {\n",
    "                      \"type\": \"Text\",\n",
    "                      \"id\": \"cell-RRR-CCC\",\n",
    "                      \"width\": \"100%\",\n",
    "                      \"height\": \"100%\",\n",
    "                      \"style\": \"cellStyle\",\n",
    "                      \"text\": \"cell-RRR-CCC\",\n",
    "                      \"color\": \"#66DFFF\",\n",
    "                      \"fontSize\": 25\n",
    "                    },\n",
    "                    \"onPress\": [\n",
    "                      {\n",
    "                        \"type\": \"SendEvent\",\n",
    "                        \"arguments\": [\n",
    "                          \"items_dict[]\"\n",
    "                        ]\n",
    "                      }\n",
    "                    ]\n",
    "                  }\n",
    "                  ]\n",
    "                  }\n",
    "                  \"\"\"\n",
    "    cellcontainers = \"\"\"\"\"\"\n",
    "    for r in range(n_rows):\n",
    "        # initialize row container\n",
    "        sr = s_row.replace('RRR', str(r))\n",
    "        sr = sr.replace('RR%', f'{100/n_rows}%')\n",
    "        temp = sr\n",
    "        for c in range(n_cols):\n",
    "            # add cell containers\n",
    "            sc = s_cell.replace('RRR', str(r))\n",
    "            sc = sc.replace('CCC', str(c))\n",
    "            sc = sc.replace('CC%', f'{100/n_cols}%')\n",
    "            if c == (n_cols-1):  # no comma after last cell in a row, close items list\n",
    "                if r == (n_rows-1):  # no comma after last row, close items list\n",
    "                    temp = temp + sc + ']}'\n",
    "                else:\n",
    "                    temp = temp + sc + ']},'\n",
    "            else:  # comma and next cell\n",
    "                temp = temp + sc + ',\\n'\n",
    "        cellcontainers += temp\n",
    "    # insert into APL file\n",
    "    output = apl.replace('CELLCONTAINERS', cellcontainers)\n",
    "    # adjust background image scaling\n",
    "    w, h = optimum(width, height)\n",
    "    output = output.replace('WIDTH', str(w))\n",
    "    output = output.replace('HEIGHT', str(h))\n",
    "    with open('cellcontainer.txt', 'w', encoding='utf-8') as f:\n",
    "        f.write(output)"
   ]
  },
  {
   "cell_type": "markdown",
   "id": "7b5787ce",
   "metadata": {},
   "source": [
    "Generate a 7x8 cell structure for a 1280x800 DP device"
   ]
  },
  {
   "cell_type": "code",
   "execution_count": 5,
   "id": "a9c7f735",
   "metadata": {},
   "outputs": [],
   "source": [
    "generate(7,8)"
   ]
  }
 ],
 "metadata": {
  "kernelspec": {
   "display_name": "Python 3 (ipykernel)",
   "language": "python",
   "name": "python3"
  },
  "language_info": {
   "codemirror_mode": {
    "name": "ipython",
    "version": 3
   },
   "file_extension": ".py",
   "mimetype": "text/x-python",
   "name": "python",
   "nbconvert_exporter": "python",
   "pygments_lexer": "ipython3",
   "version": "3.7.11"
  }
 },
 "nbformat": 4,
 "nbformat_minor": 5
}
